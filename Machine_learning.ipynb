{
 "cells": [
  {
   "cell_type": "markdown",
   "id": "b6e14fab-852e-4f49-848e-b3df00f630b7",
   "metadata": {},
   "source": [
    "# 머신러닝의 이해 강의 정리\n"
   ]
  },
  {
   "cell_type": "code",
   "execution_count": null,
   "id": "c31a1369-b41a-4e56-8a4b-adc1ab5d1809",
   "metadata": {},
   "outputs": [],
   "source": []
  }
 ],
 "metadata": {
  "kernelspec": {
   "display_name": "Python 3 (ipykernel)",
   "language": "python",
   "name": "python3"
  },
  "language_info": {
   "codemirror_mode": {
    "name": "ipython",
    "version": 3
   },
   "file_extension": ".py",
   "mimetype": "text/x-python",
   "name": "python",
   "nbconvert_exporter": "python",
   "pygments_lexer": "ipython3",
   "version": "3.8.6"
  }
 },
 "nbformat": 4,
 "nbformat_minor": 5
}

{
 "cells": [
  {
   "cell_type": "markdown",
   "id": "bfd65bfd-61d1-4379-9955-511e93a2dfa2",
   "metadata": {},
   "source": [
    "# Vectorization "
   ]
  },
  {
   "cell_type": "code",
   "execution_count": 2,
   "id": "60109b75-f2db-4cc0-bb84-1b61cf66627c",
   "metadata": {},
   "outputs": [
    {
     "name": "stdout",
     "output_type": "stream",
     "text": [
      "[1 2 3 4]\n"
     ]
    }
   ],
   "source": [
    "import numpy as np\n",
    "\n",
    "a = np.array([1,2,3,4])\n",
    "\n",
    "print(a)"
   ]
  },
  {
   "cell_type": "code",
   "execution_count": 15,
   "id": "0590a33e-f0e9-4d5a-987c-7c61e7df2c76",
   "metadata": {},
   "outputs": [
    {
     "name": "stdout",
     "output_type": "stream",
     "text": [
      "250079.0845937173\n",
      "Vectorization version:1.0008811950683594ms\n",
      "250079.0845937151\n",
      "for loop:220.08919715881348ms\n"
     ]
    }
   ],
   "source": [
    "# for loop를 사용할 때와 vectorization 할 때 연산이 얼마나 걸리는지 측정\n",
    "import time\n",
    "\n",
    "#난수로 이뤄진 1000000차원의 배열 생성\n",
    "a = np.random.rand(1000000)\n",
    "b = np.random.rand(1000000)\n",
    "\n",
    "tic = time.time() #현재시간 sec 단위\n",
    "c = np.dot(a,b)   # vectorization\n",
    "toc = time.time()\n",
    "\n",
    "print(c)\n",
    "print(\"Vectorization version:\" + str(1000*(toc-tic)) + \"ms\")\n",
    "\n",
    "# non vectorization\n",
    "\n",
    "c = 0\n",
    "tic= time.time()\n",
    "for i in range(1000000):\n",
    "    c += a[i]*b[i]\n",
    "toc = time.time()\n",
    "\n",
    "print(c)\n",
    "print(\"for loop:\" + str(1000*(toc-tic)) + \"ms\")"
   ]
  },
  {
   "cell_type": "code",
   "execution_count": null,
   "id": "7cffd80c-58ab-478a-a243-121f77979268",
   "metadata": {},
   "outputs": [],
   "source": []
  }
 ],
 "metadata": {
  "kernelspec": {
   "display_name": "Python 3 (ipykernel)",
   "language": "python",
   "name": "python3"
  },
  "language_info": {
   "codemirror_mode": {
    "name": "ipython",
    "version": 3
   },
   "file_extension": ".py",
   "mimetype": "text/x-python",
   "name": "python",
   "nbconvert_exporter": "python",
   "pygments_lexer": "ipython3",
   "version": "3.8.6"
  }
 },
 "nbformat": 4,
 "nbformat_minor": 5
}

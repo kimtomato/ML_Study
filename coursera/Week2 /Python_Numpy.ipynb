{
 "cells": [
  {
   "cell_type": "markdown",
   "id": "5adbcc4b-386a-4ae7-8996-b6f45b13c81a",
   "metadata": {},
   "source": [
    "# Python - Numpy vectors"
   ]
  },
  {
   "cell_type": "code",
   "execution_count": 18,
   "id": "ea8319fc-d704-423e-9751-4de92dd4757a",
   "metadata": {},
   "outputs": [
    {
     "name": "stdout",
     "output_type": "stream",
     "text": [
      "[-0.64138813 -1.43388449  0.33254777  0.14308845  0.71525598]\n"
     ]
    }
   ],
   "source": [
    "import numpy as np\n",
    "import math as math\n",
    "import time as time\n",
    "#권장하지 않는 표기 \n",
    "a = np.random.randn(5) #가우시안 분포를 따르는 변수값 5개 저장\n",
    "print(a)"
   ]
  },
  {
   "cell_type": "code",
   "execution_count": 3,
   "id": "ffff74a1-2855-4d0a-b233-1243318ed0c3",
   "metadata": {},
   "outputs": [
    {
     "name": "stdout",
     "output_type": "stream",
     "text": [
      "(5,)\n"
     ]
    }
   ],
   "source": [
    "print(a.shape) # rank가 1인 vector, 열벡터도 행벡터도 아님 "
   ]
  },
  {
   "cell_type": "code",
   "execution_count": 4,
   "id": "8559912f-4a77-4d70-90c4-41a8de4f2c65",
   "metadata": {},
   "outputs": [
    {
     "name": "stdout",
     "output_type": "stream",
     "text": [
      "[ 0.26552783  1.43195868  0.51608644 -0.19000468 -0.05234406]\n"
     ]
    }
   ],
   "source": [
    "print(a.T)  # 결과가 이상하게 나옴 a tansform 랭크가 1인 배열"
   ]
  },
  {
   "cell_type": "code",
   "execution_count": 5,
   "id": "c3079b31-ba74-47f8-9553-81a66c08e207",
   "metadata": {},
   "outputs": [
    {
     "name": "stdout",
     "output_type": "stream",
     "text": [
      "2.4261975982518136\n"
     ]
    }
   ],
   "source": [
    "print(np.dot(a,a.T))  #두 행렬의 곱계산  결과 이상"
   ]
  },
  {
   "cell_type": "code",
   "execution_count": 10,
   "id": "9b1d571f-1cea-49b9-8122-ae53438e7f14",
   "metadata": {},
   "outputs": [
    {
     "name": "stdout",
     "output_type": "stream",
     "text": [
      "[[ 2.04137291]\n",
      " [-0.76874175]\n",
      " [-1.16691372]\n",
      " [-0.44992926]\n",
      " [ 1.03597147]]\n"
     ]
    }
   ],
   "source": [
    "#권장 \n",
    "a= np.random.randn(5,1)\n",
    "print(a)"
   ]
  },
  {
   "cell_type": "code",
   "execution_count": 8,
   "id": "dc4e127c-2dfa-44bb-b482-bbca46b9c4e8",
   "metadata": {},
   "outputs": [
    {
     "name": "stdout",
     "output_type": "stream",
     "text": [
      "[[ 0.0389525   0.86925953  1.15733369 -0.04446361  0.97927314]]\n"
     ]
    }
   ],
   "source": [
    "print(a.T)"
   ]
  },
  {
   "cell_type": "code",
   "execution_count": 9,
   "id": "68415945-80eb-474d-81fa-8fee0fb59ac6",
   "metadata": {},
   "outputs": [
    {
     "name": "stdout",
     "output_type": "stream",
     "text": [
      "[[ 0.0015173   0.03385984  0.04508105 -0.00173197  0.03814514]\n",
      " [ 0.03385984  0.75561213  1.00602334 -0.03865042  0.85124251]\n",
      " [ 0.04508105  1.00602334  1.33942127 -0.05145924  1.1333458 ]\n",
      " [-0.00173197 -0.03865042 -0.05145924  0.00197701 -0.04354202]\n",
      " [ 0.03814514  0.85124251  1.1333458  -0.04354202  0.95897588]]\n"
     ]
    }
   ],
   "source": [
    " print(np.dot(a,a.T))"
   ]
  },
  {
   "cell_type": "code",
   "execution_count": 20,
   "id": "715cdcdb-a89c-4e68-8fb8-63c57239ae7b",
   "metadata": {},
   "outputs": [
    {
     "name": "stdout",
     "output_type": "stream",
     "text": [
      "(12288, 45)\n"
     ]
    }
   ],
   "source": [
    "a = np.random.randn(12288,150)\n",
    "b = np.random.randn(150,45)\n",
    "c = np.dot(a,b)\n",
    "print(c.shape)"
   ]
  },
  {
   "cell_type": "code",
   "execution_count": 11,
   "id": "82152066-9383-4b65-9ea5-aa28e02e6922",
   "metadata": {},
   "outputs": [
    {
     "name": "stdout",
     "output_type": "stream",
     "text": [
      "[[0.]\n",
      " [0.]\n",
      " [0.]\n",
      " [0.]\n",
      " [0.]]\n"
     ]
    }
   ],
   "source": [
    "u = np.zeros((5,1))\n",
    "print(u)"
   ]
  },
  {
   "cell_type": "code",
   "execution_count": 19,
   "id": "2b5afb53-4313-4a98-a2ad-434458779bc5",
   "metadata": {},
   "outputs": [
    {
     "name": "stdout",
     "output_type": "stream",
     "text": [
      "[[0.52656098]\n",
      " [0.23838113]\n",
      " [1.39451651]\n",
      " [1.15383185]\n",
      " [2.04471001]]\n",
      "0.1461505889892578ms\n",
      "[0.52656098 0.23838113 1.39451651 1.15383185 2.04471001]\n",
      "0.11086463928222656ms\n"
     ]
    }
   ],
   "source": [
    "tic = time.time()\n",
    "for i in range (5):\n",
    "    u[i]= math.exp(a[i])\n",
    "toc = time.time()\n",
    "print(u)\n",
    "print(str(1000*(toc-tic))+\"ms\")\n",
    "\n",
    "tic = time.time()\n",
    "u=np.exp(a)\n",
    "toc=time.time()\n",
    "print(u)\n",
    "print(str(1000*(toc-tic))+\"ms\")"
   ]
  },
  {
   "cell_type": "code",
   "execution_count": 28,
   "id": "2b5b71c8-0f9e-463d-9ca2-248f7677745e",
   "metadata": {},
   "outputs": [
    {
     "name": "stdout",
     "output_type": "stream",
     "text": [
      "[[ 1.89623019]\n",
      " [-0.93559173]\n",
      " [-0.07362861]\n",
      " [ 0.41194898]\n",
      " [-0.7086862 ]\n",
      " [ 0.03097643]\n",
      " [-1.07007095]\n",
      " [-0.42826675]\n",
      " [ 2.26268636]\n",
      " [ 1.00978782]]\n",
      "\n",
      "[[ 0.28153714]\n",
      " [-0.60110753]\n",
      " [-1.65125375]\n",
      " [-0.02220305]\n",
      " [ 0.49686208]\n",
      " [ 0.52136662]\n",
      " [-0.15854513]\n",
      " [-1.09044226]\n",
      " [-1.43530106]\n",
      " [ 0.67791133]]\n"
     ]
    }
   ],
   "source": [
    "a =np.random.randn(10,1)\n",
    "b =np.random.randn(10,1)\n",
    "print(a,b, sep= \"\\n\\n\")"
   ]
  },
  {
   "cell_type": "code",
   "execution_count": 31,
   "id": "3fb0782a-05ba-4118-bf10-90c5907a73e0",
   "metadata": {},
   "outputs": [
    {
     "name": "stdout",
     "output_type": "stream",
     "text": [
      "[[-0.05372062]]\n"
     ]
    }
   ],
   "source": [
    "c = np.dot(a.T,b)+1\n",
    "print(c)"
   ]
  },
  {
   "cell_type": "markdown",
   "id": "94a89e4c-d7c8-4faa-957d-fb9f5d6bf862",
   "metadata": {},
   "source": []
  }
 ],
 "metadata": {
  "kernelspec": {
   "display_name": "Python 3 (ipykernel)",
   "language": "python",
   "name": "python3"
  },
  "language_info": {
   "codemirror_mode": {
    "name": "ipython",
    "version": 3
   },
   "file_extension": ".py",
   "mimetype": "text/x-python",
   "name": "python",
   "nbconvert_exporter": "python",
   "pygments_lexer": "ipython3",
   "version": "3.8.6"
  }
 },
 "nbformat": 4,
 "nbformat_minor": 5
}

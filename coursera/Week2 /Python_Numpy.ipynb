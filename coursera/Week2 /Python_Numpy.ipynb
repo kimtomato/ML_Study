{
 "cells": [
  {
   "cell_type": "markdown",
   "id": "5adbcc4b-386a-4ae7-8996-b6f45b13c81a",
   "metadata": {},
   "source": [
    "# Python - Numpy vectors"
   ]
  },
  {
   "cell_type": "code",
   "execution_count": 2,
   "id": "ea8319fc-d704-423e-9751-4de92dd4757a",
   "metadata": {},
   "outputs": [
    {
     "name": "stdout",
     "output_type": "stream",
     "text": [
      "[ 0.26552783  1.43195868  0.51608644 -0.19000468 -0.05234406]\n"
     ]
    }
   ],
   "source": [
    "import numpy as np\n",
    "\n",
    "#권장하지 않는 표기 \n",
    "a = np.random.randn(5) #가우시안 분포를 따르는 변수값 5개 저장\n",
    "print(a)"
   ]
  },
  {
   "cell_type": "code",
   "execution_count": 3,
   "id": "ffff74a1-2855-4d0a-b233-1243318ed0c3",
   "metadata": {},
   "outputs": [
    {
     "name": "stdout",
     "output_type": "stream",
     "text": [
      "(5,)\n"
     ]
    }
   ],
   "source": [
    "print(a.shape) # rank가 1인 vector, 열벡터도 행벡터도 아님 "
   ]
  },
  {
   "cell_type": "code",
   "execution_count": 4,
   "id": "8559912f-4a77-4d70-90c4-41a8de4f2c65",
   "metadata": {},
   "outputs": [
    {
     "name": "stdout",
     "output_type": "stream",
     "text": [
      "[ 0.26552783  1.43195868  0.51608644 -0.19000468 -0.05234406]\n"
     ]
    }
   ],
   "source": [
    "print(a.T)  # 결과가 이상하게 나옴 a tansform 랭크가 1인 배열"
   ]
  },
  {
   "cell_type": "code",
   "execution_count": 5,
   "id": "c3079b31-ba74-47f8-9553-81a66c08e207",
   "metadata": {},
   "outputs": [
    {
     "name": "stdout",
     "output_type": "stream",
     "text": [
      "2.4261975982518136\n"
     ]
    }
   ],
   "source": [
    "print(np.dot(a,a.T))  #두 행렬의 곱계산  결과 이상"
   ]
  },
  {
   "cell_type": "code",
   "execution_count": 7,
   "id": "9b1d571f-1cea-49b9-8122-ae53438e7f14",
   "metadata": {},
   "outputs": [
    {
     "name": "stdout",
     "output_type": "stream",
     "text": [
      "[[ 0.0389525 ]\n",
      " [ 0.86925953]\n",
      " [ 1.15733369]\n",
      " [-0.04446361]\n",
      " [ 0.97927314]]\n"
     ]
    }
   ],
   "source": [
    "#권장 \n",
    "a = np.random.randn(5,1)\n",
    "print(a)"
   ]
  },
  {
   "cell_type": "code",
   "execution_count": 8,
   "id": "dc4e127c-2dfa-44bb-b482-bbca46b9c4e8",
   "metadata": {},
   "outputs": [
    {
     "name": "stdout",
     "output_type": "stream",
     "text": [
      "[[ 0.0389525   0.86925953  1.15733369 -0.04446361  0.97927314]]\n"
     ]
    }
   ],
   "source": [
    "print(a.T)"
   ]
  },
  {
   "cell_type": "code",
   "execution_count": 9,
   "id": "68415945-80eb-474d-81fa-8fee0fb59ac6",
   "metadata": {},
   "outputs": [
    {
     "name": "stdout",
     "output_type": "stream",
     "text": [
      "[[ 0.0015173   0.03385984  0.04508105 -0.00173197  0.03814514]\n",
      " [ 0.03385984  0.75561213  1.00602334 -0.03865042  0.85124251]\n",
      " [ 0.04508105  1.00602334  1.33942127 -0.05145924  1.1333458 ]\n",
      " [-0.00173197 -0.03865042 -0.05145924  0.00197701 -0.04354202]\n",
      " [ 0.03814514  0.85124251  1.1333458  -0.04354202  0.95897588]]\n"
     ]
    }
   ],
   "source": [
    " print(np.dot(a,a.T))"
   ]
  },
  {
   "cell_type": "code",
   "execution_count": 22,
   "id": "a55eaf4f-786a-4051-bfa6-9c715bc43c58",
   "metadata": {},
   "outputs": [
    {
     "ename": "ValueError",
     "evalue": "operands could not be broadcast together with shapes (4,3) (3,2) ",
     "output_type": "error",
     "traceback": [
      "\u001b[0;31m---------------------------------------------------------------------------\u001b[0m",
      "\u001b[0;31mValueError\u001b[0m                                Traceback (most recent call last)",
      "\u001b[0;32m/var/folders/2s/4y2nfq917690r_6mtng139880000gn/T/ipykernel_55623/3982553341.py\u001b[0m in \u001b[0;36m<module>\u001b[0;34m\u001b[0m\n\u001b[1;32m      1\u001b[0m \u001b[0ma\u001b[0m \u001b[0;34m=\u001b[0m \u001b[0mnp\u001b[0m\u001b[0;34m.\u001b[0m\u001b[0mrandom\u001b[0m\u001b[0;34m.\u001b[0m\u001b[0mrandn\u001b[0m\u001b[0;34m(\u001b[0m\u001b[0;36m4\u001b[0m\u001b[0;34m,\u001b[0m\u001b[0;36m3\u001b[0m\u001b[0;34m)\u001b[0m\u001b[0;34m\u001b[0m\u001b[0;34m\u001b[0m\u001b[0m\n\u001b[1;32m      2\u001b[0m \u001b[0mb\u001b[0m \u001b[0;34m=\u001b[0m \u001b[0mnp\u001b[0m\u001b[0;34m.\u001b[0m\u001b[0mrandom\u001b[0m\u001b[0;34m.\u001b[0m\u001b[0mrandn\u001b[0m\u001b[0;34m(\u001b[0m\u001b[0;36m3\u001b[0m\u001b[0;34m,\u001b[0m\u001b[0;36m2\u001b[0m\u001b[0;34m)\u001b[0m\u001b[0;34m\u001b[0m\u001b[0;34m\u001b[0m\u001b[0m\n\u001b[0;32m----> 3\u001b[0;31m \u001b[0mc\u001b[0m \u001b[0;34m=\u001b[0m \u001b[0ma\u001b[0m \u001b[0;34m*\u001b[0m \u001b[0mb\u001b[0m\u001b[0;34m\u001b[0m\u001b[0;34m\u001b[0m\u001b[0m\n\u001b[0m\u001b[1;32m      4\u001b[0m \u001b[0mprint\u001b[0m\u001b[0;34m(\u001b[0m\u001b[0mc\u001b[0m\u001b[0;34m.\u001b[0m\u001b[0mshape\u001b[0m\u001b[0;34m)\u001b[0m\u001b[0;34m\u001b[0m\u001b[0;34m\u001b[0m\u001b[0m\n",
      "\u001b[0;31mValueError\u001b[0m: operands could not be broadcast together with shapes (4,3) (3,2) "
     ]
    }
   ],
   "source": [
    "a = np.random.randn(4,3)\n",
    "b = np.random.randn(3,2)\n",
    "c = a * b\n",
    "print(c.shape)"
   ]
  },
  {
   "cell_type": "code",
   "execution_count": 20,
   "id": "715cdcdb-a89c-4e68-8fb8-63c57239ae7b",
   "metadata": {},
   "outputs": [
    {
     "name": "stdout",
     "output_type": "stream",
     "text": [
      "(12288, 45)\n"
     ]
    }
   ],
   "source": [
    "a = np.random.randn(12288,150)\n",
    "b = np.random.randn(150,45)\n",
    "c = np.dot(a,b)\n",
    "print(c.shape)"
   ]
  },
  {
   "cell_type": "code",
   "execution_count": null,
   "id": "82152066-9383-4b65-9ea5-aa28e02e6922",
   "metadata": {},
   "outputs": [],
   "source": []
  }
 ],
 "metadata": {
  "kernelspec": {
   "display_name": "Python 3 (ipykernel)",
   "language": "python",
   "name": "python3"
  },
  "language_info": {
   "codemirror_mode": {
    "name": "ipython",
    "version": 3
   },
   "file_extension": ".py",
   "mimetype": "text/x-python",
   "name": "python",
   "nbconvert_exporter": "python",
   "pygments_lexer": "ipython3",
   "version": "3.8.6"
  }
 },
 "nbformat": 4,
 "nbformat_minor": 5
}

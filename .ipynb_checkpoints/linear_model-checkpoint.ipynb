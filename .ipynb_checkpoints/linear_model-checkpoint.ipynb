{
 "cells": [
  {
   "cell_type": "markdown",
   "id": "c67bdf4f-0ac2-4af0-b0d5-751d59f5ce62",
   "metadata": {
    "tags": []
   },
   "source": [
    "### 선형 모델\n",
    "\n",
    "#### 1. 선형 회귀\n",
    "\n",
    "y_ha은 모델이 만들어낸 예측값 \n",
    "$$\\hat{y} = w[0]*x[0] + b$$\n",
    "\n",
    "-> 예측값은 입력 특성에 w의 각 가중치를 곱해서 더한 가중치의 합"
   ]
  },
  {
   "cell_type": "code",
   "execution_count": 2,
   "id": "49155c21-6807-4b1c-918f-8e2671f538c5",
   "metadata": {},
   "outputs": [
    {
     "name": "stdout",
     "output_type": "stream",
     "text": [
      "w[0]: 0.393906  b: -0.031804\n"
     ]
    },
    {
     "data": {
      "image/png": "[encoded data removed]",
      "text/plain": [
       "<Figure size 576x576 with 1 Axes>"
      ]
     },
     "metadata": {
      "needs_background": "light"
     },
     "output_type": "display_data"
    }
   ],
   "source": [
    "\n",
    "#wave 데이터 셋에 대한 선형모델\n",
    "\n",
    "import mglearn\n",
    "\n",
    "mglearn.plots.plot_linear_regression_wave()"
   ]
  },
  {
   "cell_type": "markdown",
   "id": "7e4345f7-aed2-42c0-ac1d-270004470eca",
   "metadata": {},
   "source": [
    "- 회귀를 위한 선형모델의 경우 특성이 하나일때는 직선, 두 개일때는 평면, 더 높은 차원에서는 초평면이 되는 회귀 모델의 특성을 가짐 \n",
    "- 훈련 데이터보다 특성이 더 많은 경우 y를 완벽하게 선형 함수로 모델링 가능\n",
    "\n",
    "- 회귀를 위한 다양한 선형 모델 존재, 이때 각 모델은 파라미터 w와 b를 학습하는 방법과 모델의 복잡도를 제어하는 방법에서 차이가 난다 \n"
   ]
  },
  {
   "cell_type": "markdown",
   "id": "369a395b-a0f0-4e18-8787-1da59956287b",
   "metadata": {},
   "source": [
    "### 선형회귀(linear regression) = 최소제곱법 OLS(ordinary least squares)\n",
    "\n",
    "- 예측값과 타겟 y 사이의 MSE(mean squared error)값을 최소화하는 파라미터 w, b를 찾는다. \n",
    "- 매개 변수가 없는 것이 장점 \n",
    "- 그로인해 모델의 복잡도를 제어할 방법이 없음\n",
    "\n",
    "#### MSE(평균 제곱 오차)?\n",
    "\n",
    "- 두 값의 차이를 제곱하여 더한 후에 샘플의 개수로 나눈것\n",
    "\n"
   ]
  },
  {
   "cell_type": "code",
   "execution_count": 4,
   "id": "6bff7b88-9c38-464e-9434-e2bef47f4c6a",
   "metadata": {},
   "outputs": [],
   "source": [
    "from sklearn.linear_model import LinearRegression\n",
    "from sklearn.model_selection import train_test_split\n",
    "\n",
    "X,y = mglearn.datasets.make_wave(n_samples=60)\n",
    "\n",
    "X_train,X_test,y_train,y_test = train_test_split(X,y,random_state=42)\n",
    "\n",
    "lr=LinearRegression().fit(X_train,y_train)"
   ]
  },
  {
   "cell_type": "code",
   "execution_count": 6,
   "id": "19e3f127-6f7f-4d05-8a5a-693c938fac9d",
   "metadata": {},
   "outputs": [
    {
     "name": "stdout",
     "output_type": "stream",
     "text": [
      "train set score : 0.67\n",
      "testset score: 0.66\n"
     ]
    }
   ],
   "source": [
    "#성능\n",
    "#결과를 보면 과소 적합된것을 알 수 있다.\n",
    "print(\"train set score : {:.2f}\".format(lr.score(X_train, y_train)))\n",
    "print(\"testset score: {:.2f}\".format(lr.score(X_test, y_test)))"
   ]
  },
  {
   "cell_type": "code",
   "execution_count": 8,
   "id": "95c935fc-25b9-48c6-afc0-88736da638bf",
   "metadata": {},
   "outputs": [
    {
     "name": "stderr",
     "output_type": "stream",
     "text": [
      "/Users/kimtomato/miniforge3/envs/kimtomato/lib/python3.8/site-packages/sklearn/utils/deprecation.py:87: FutureWarning: Function load_boston is deprecated; `load_boston` is deprecated in 1.0 and will be removed in 1.2.\n",
      "\n",
      "    The Boston housing prices dataset has an ethical problem. You can refer to\n",
      "    the documentation of this function for further details.\n",
      "\n",
      "    The scikit-learn maintainers therefore strongly discourage the use of this\n",
      "    dataset unless the purpose of the code is to study and educate about\n",
      "    ethical issues in data science and machine learning.\n",
      "\n",
      "    In this special case, you can fetch the dataset from the original\n",
      "    source::\n",
      "\n",
      "        import pandas as pd\n",
      "        import numpy as np\n",
      "\n",
      "\n",
      "        data_url = \"http://lib.stat.cmu.edu/datasets/boston\"\n",
      "        raw_df = pd.read_csv(data_url, sep=\"\\s+\", skiprows=22, header=None)\n",
      "        data = np.hstack([raw_df.values[::2, :], raw_df.values[1::2, :2]])\n",
      "        target = raw_df.values[1::2, 2]\n",
      "\n",
      "    Alternative datasets include the California housing dataset (i.e.\n",
      "    :func:`~sklearn.datasets.fetch_california_housing`) and the Ames housing\n",
      "    dataset. You can load the datasets as follows::\n",
      "\n",
      "        from sklearn.datasets import fetch_california_housing\n",
      "        housing = fetch_california_housing()\n",
      "\n",
      "    for the California housing dataset and::\n",
      "\n",
      "        from sklearn.datasets import fetch_openml\n",
      "        housing = fetch_openml(name=\"house_prices\", as_frame=True)\n",
      "\n",
      "    for the Ames housing dataset.\n",
      "    \n",
      "  warnings.warn(msg, category=FutureWarning)\n"
     ]
    }
   ],
   "source": [
    "#보스턴 집값을 선형 회귀로 예측해보기 \n",
    "\n",
    "X,y = mglearn.datasets.load_extended_boston()\n",
    "\n",
    "X_train,X_test, y_train,y_test = train_test_split(X,y, random_state=0)\n",
    "\n",
    "model = LinearRegression().fit(X_train,y_train)"
   ]
  },
  {
   "cell_type": "code",
   "execution_count": 10,
   "id": "612b55c2-4b7c-4a3e-9107-f2351e72017a",
   "metadata": {},
   "outputs": [
    {
     "name": "stdout",
     "output_type": "stream",
     "text": [
      "trainset score: 0.95\n",
      "test_set score: 0.61\n"
     ]
    }
   ],
   "source": [
    "print(\"trainset score: {:.2f}\".format(model.score(X_train,y_train)))\n",
    "print(\"test_set score: {:.2f}\".format(model.score(X_test,y_test)))\n",
    "\n",
    "#과대적합 발생"
   ]
  },
  {
   "cell_type": "markdown",
   "id": "dd35486b-280b-4bd5-80cb-8bb418a7695b",
   "metadata": {},
   "source": [
    "### 리지회귀(Ridge Regression)\n",
    "\n",
    "- 앞서 설명한 최소적합법에서 사용한것과 같은 예측 함수 사용\n",
    "- 가중치(w) 선택은 훈련 데이터를 잘 예측하기 위한 것 + 가중치의 절대값을 최대한 작게 만들려고 함\n",
    "- 즉 w 값이 거의 0이 되길 바람 = 모든 특성이 출력해주는 영향을 최소한으로 만들고 싶어함 =(Regularization :  규제)\n",
    "\n",
    "#### Regularization 이란?\n",
    "- 과대 적합되지 않도록 모델을 강제로 제한하는 것 \n",
    "- 리지회귀에서는 L2 규제 사용 \n"
   ]
  },
  {
   "cell_type": "code",
   "execution_count": 11,
   "id": "8ac8733e-f15c-4b5c-973f-5370c7970aed",
   "metadata": {},
   "outputs": [
    {
     "name": "stdout",
     "output_type": "stream",
     "text": [
      "train_Set score : 0.89\n",
      "test_Set score : 0.75\n"
     ]
    }
   ],
   "source": [
    "#리지회귀 사용하여 보스턴 주택 가격 예측\n",
    "\n",
    "from sklearn.linear_model import Ridge\n",
    "\n",
    "ridge = Ridge().fit(X_train,y_train)\n",
    "\n",
    "print(\"train_Set score : {:.2f}\".format(ridge.score(X_train,y_train)))\n",
    "print(\"test_Set score : {:.2f}\".format(ridge.score(X_test,y_test)))"
   ]
  },
  {
   "cell_type": "markdown",
   "id": "f10823bb-e657-4f08-aabb-8b69f669db0b",
   "metadata": {},
   "source": [
    "- 일반적으로 모델의 복잡도가 낮아지면 (덜 자유로움) 훈련 세트에서의 성능은 낮아지지만 더 일반화된 모델이 만들어진다. \n",
    "- 리지모델은 모델을 단순화시키고 L2 norm의 매개변수 알파를 이용하여 훈련 셋의 성능 대비 모델을 얼마나 단순화 시킬지 지정할 수 있다. \n",
    "- 이때 알파값은 사용하는 데이터셋에 따라 최적의 값이 다르다.\n",
    "- 알파값이 커질수록 w를 0에 더 가깝게 만들어 훈련셋의 성능은 나빠지지만 일반화에는 도움을 줄 수 있다. "
   ]
  },
  {
   "cell_type": "code",
   "execution_count": 13,
   "id": "ab690912-2b80-49ec-ae55-10e39d754ee0",
   "metadata": {},
   "outputs": [
    {
     "name": "stdout",
     "output_type": "stream",
     "text": [
      "train_Set score : 0.79\n",
      "test_Set score : 0.64\n"
     ]
    }
   ],
   "source": [
    "#알파값이 10일때, 알파값이 작아질수록 선형모델과 점차 비슷해진다. \n",
    "\n",
    "ridge = Ridge(alpha=10).fit(X_train, y_train)\n",
    "\n",
    "print(\"train_Set score : {:.2f}\".format(ridge.score(X_train,y_train)))\n",
    "print(\"test_Set score : {:.2f}\".format(ridge.score(X_test,y_test)))"
   ]
  },
  {
   "cell_type": "code",
   "execution_count": 33,
   "id": "011ce8b2-448e-4cd0-86be-e1fe7f035375",
   "metadata": {},
   "outputs": [
    {
     "name": "stdout",
     "output_type": "stream",
     "text": [
      "train_Set score : 0.93\n",
      "test_Set score : 0.77\n"
     ]
    }
   ],
   "source": [
    "ridge01 = Ridge(alpha=0.1).fit(X_train, y_train)\n",
    "\n",
    "print(\"train_Set score : {:.2f}\".format(ridge01.score(X_train,y_train)))\n",
    "print(\"test_Set score : {:.2f}\".format(ridge01.score(X_test,y_test)))"
   ]
  },
  {
   "cell_type": "code",
   "execution_count": 23,
   "id": "9d6addb4-733b-4db1-b356-87e3fee5b3cf",
   "metadata": {},
   "outputs": [
    {
     "name": "stderr",
     "output_type": "stream",
     "text": [
      "/Users/kimtomato/miniforge3/envs/kimtomato/lib/python3.8/site-packages/sklearn/utils/deprecation.py:87: FutureWarning: Function load_boston is deprecated; `load_boston` is deprecated in 1.0 and will be removed in 1.2.\n",
      "\n",
      "    The Boston housing prices dataset has an ethical problem. You can refer to\n",
      "    the documentation of this function for further details.\n",
      "\n",
      "    The scikit-learn maintainers therefore strongly discourage the use of this\n",
      "    dataset unless the purpose of the code is to study and educate about\n",
      "    ethical issues in data science and machine learning.\n",
      "\n",
      "    In this special case, you can fetch the dataset from the original\n",
      "    source::\n",
      "\n",
      "        import pandas as pd\n",
      "        import numpy as np\n",
      "\n",
      "\n",
      "        data_url = \"http://lib.stat.cmu.edu/datasets/boston\"\n",
      "        raw_df = pd.read_csv(data_url, sep=\"\\s+\", skiprows=22, header=None)\n",
      "        data = np.hstack([raw_df.values[::2, :], raw_df.values[1::2, :2]])\n",
      "        target = raw_df.values[1::2, 2]\n",
      "\n",
      "    Alternative datasets include the California housing dataset (i.e.\n",
      "    :func:`~sklearn.datasets.fetch_california_housing`) and the Ames housing\n",
      "    dataset. You can load the datasets as follows::\n",
      "\n",
      "        from sklearn.datasets import fetch_california_housing\n",
      "        housing = fetch_california_housing()\n",
      "\n",
      "    for the California housing dataset and::\n",
      "\n",
      "        from sklearn.datasets import fetch_openml\n",
      "        housing = fetch_openml(name=\"house_prices\", as_frame=True)\n",
      "\n",
      "    for the Ames housing dataset.\n",
      "    \n",
      "  warnings.warn(msg, category=FutureWarning)\n"
     ]
    },
    {
     "data": {
      "image/png": "[encoded data removed]",
      "text/plain": [
       "<Figure size 432x288 with 1 Axes>"
      ]
     },
     "metadata": {
      "needs_background": "light"
     },
     "output_type": "display_data"
    }
   ],
   "source": [
    "#알팍값을 고정하고 훈련데이터의 크기 변화시키기\n",
    "mglearn.plots.plot_ridge_n_samples()\n"
   ]
  },
  {
   "cell_type": "markdown",
   "id": "e8e3f702-69cb-4332-994a-f0c0816820dd",
   "metadata": {},
   "source": [
    "- 두 모델 모두 training 점수가 테스트 점수보다 높다.\n",
    "- 리지회귀에는 regularization이 적용됌으로 선형회귀보다 훈련셋 점수가 낮지만 테스트셋에서는 더 높다. \n",
    "- 선형회귀 모델의 경우 데이터셋의 크기가 400미만인 경우 아무것도 학습하지 못하고 있다. \n",
    "- 두 모델의 성능은 데이터셋의 크기가 클수록 좋아지고 마지막에는 선형회귀가 리지회귀를 따라잡는다. \n",
    "- 즉, 데이터 크기가 충분히 크면 규제항은 덜 중요해지고 리지회귀와 선형회귀의 성능이 같아진다. \n",
    "- 데이터 크기가 커질수록 선형 회귀의 훈련셋 성능이 점차 낮아진다. -> 데이터가 많아질수록 모델이 과대적합될 가능성이 낮아진다. \n"
   ]
  },
  {
   "cell_type": "markdown",
   "id": "ae723ecf-0644-40c5-9fde-df5c0da7cb69",
   "metadata": {},
   "source": [
    "### 라소 (Lasso)\n",
    "\n",
    "- 선형 회귀에 L1 규제를 적용한 모델 \n",
    "- 라소 역시 계수를 0으로 만들려고하며 실제로 0이 되는 계수도 존재한다 = 훈련에서 완전히 제외되는 특성이 생김(featurn selection이 자동으로 이루어짐)\n",
    "- 일부 계수를 0으로 만들어주면 모델을 이해하기 쉬워지고, 모델의 가장 중요한 특성이 무엇인지 드러내준다. \n"
   ]
  },
  {
   "cell_type": "code",
   "execution_count": 34,
   "id": "3ad8d1f1-dc49-48a0-a3ff-708a1b62fbee",
   "metadata": {},
   "outputs": [
    {
     "name": "stdout",
     "output_type": "stream",
     "text": [
      "(379, 104)\n",
      "train_set score : 0.29\n",
      "test_set score : 0.21\n",
      "사용한 특성의 개수 :  4\n"
     ]
    }
   ],
   "source": [
    "#보스턴 데이터에 라소 적용\n",
    "\n",
    "from sklearn.linear_model import Lasso\n",
    "import numpy as np\n",
    "\n",
    "lasso = Lasso().fit(X_train,y_train)\n",
    "\n",
    "print(X_train.shape)\n",
    "\n",
    "print(\"train_set score : {:.2f}\".format(lasso.score(X_train,y_train)))\n",
    "print(\"test_set score : {:.2f}\".format(lasso.score(X_test,y_test)))\n",
    "print(\"사용한 특성의 개수 : \",np.sum(lasso.coef_ !=0))\n",
    "\n"
   ]
  },
  {
   "cell_type": "markdown",
   "id": "525fdfa7-04f0-4da7-b810-5b9522dea34e",
   "metadata": {},
   "source": [
    "- 훈련 데이터, 테스트 데이터 모두에서 과소 적합을 보이며, 104개의 특성 중 4개만 사용했음을 알 수 있다. \n",
    "- 리지회귀에서와 마찬가지로 알파값에 따라 파라미터를 얼마나 0으로 보낼지 알파 매개변수를 이용하여 조절할 수 있다. \n",
    "- 알파의 기본값은 1이다\n"
   ]
  },
  {
   "cell_type": "code",
   "execution_count": 29,
   "id": "656ebd58-3502-496b-9e5e-bef97d782d94",
   "metadata": {},
   "outputs": [
    {
     "name": "stdout",
     "output_type": "stream",
     "text": [
      "train_set score : 0.90\n",
      "test_set score : 0.77\n",
      "사용한 특성의 개수 :  33\n"
     ]
    }
   ],
   "source": [
    "lasso01 = Lasso(alpha=0.01, max_iter=100000).fit(X_train,y_train)\n",
    "\n",
    "print(\"train_set score : {:.2f}\".format(lasso01.score(X_train,y_train)))\n",
    "print(\"test_set score : {:.2f}\".format(lasso01.score(X_test,y_test)))\n",
    "print(\"사용한 특성의 개수 : \",np.sum(lasso01.coef_ !=0))\n"
   ]
  },
  {
   "cell_type": "code",
   "execution_count": 37,
   "id": "a1f5f85c-ced9-4fa6-84a6-9d7bb4474bde",
   "metadata": {},
   "outputs": [
    {
     "name": "stdout",
     "output_type": "stream",
     "text": [
      "train_set score : 0.95\n",
      "test_set score : 0.64\n",
      "사용한 특성의 개수 :  96\n"
     ]
    }
   ],
   "source": [
    "lasso00001 = Lasso(alpha=0.0001, max_iter=100000).fit(X_train,y_train)\n",
    "\n",
    "print(\"train_set score : {:.2f}\".format(lasso00001.score(X_train,y_train)))\n",
    "print(\"test_set score : {:.2f}\".format(lasso00001.score(X_test,y_test)))\n",
    "print(\"사용한 특성의 개수 : \",np.sum(lasso00001.coef_ !=0))\n",
    "\n"
   ]
  },
  {
   "cell_type": "markdown",
   "id": "f9e5cf06-7855-434b-8645-558a1eefd729",
   "metadata": {},
   "source": [
    "- alpha값이 작아질수록 모델의 복잡도는 증가, 훈련셋과 테스트셋의에서이 성능 향상 \n",
    "- 하지만 alpha 값이 너무 작아지면 regularization의 효과가 사라지고 과대적합이 일어날 가능성이 높아진다. "
   ]
  },
  {
   "cell_type": "code",
   "execution_count": 41,
   "id": "04e45c12-216f-41a0-bb67-c2afb83f9c08",
   "metadata": {},
   "outputs": [
    {
     "data": {
      "text/plain": [
       "(-25.0, 25.0)"
      ]
     },
     "execution_count": 41,
     "metadata": {},
     "output_type": "execute_result"
    },
    {
     "data": {
      "image/png": "[encoded data removed]",
      "text/plain": [
       "<Figure size 432x288 with 1 Axes>"
      ]
     },
     "metadata": {
      "needs_background": "light"
     },
     "output_type": "display_data"
    }
   ],
   "source": [
    "#리지 회귀와 alpha값이 다른 라소 회귀의 계수 크기 비교\n",
    "import matplotlib.pyplot as plt\n",
    "plt.plot(lasso.coef_, 's', label=\"Lasso_alpha=1\")\n",
    "plt.plot(lasso01.coef_, '^', label=\"Lasso_alpha=0.01\")\n",
    "plt.plot(lasso00001.coef_, 'v', label=\"Lasso_alpha=0.0001\")\n",
    "\n",
    "plt.plot(ridge01.coef_, 'o', label=\"Ridge_alpha=1\")\n",
    "plt.legend(ncol=2, loc=(0,1.05))\n",
    "plt.ylim(-25,25)\n",
    "\n",
    "\n"
   ]
  },
  {
   "cell_type": "markdown",
   "id": "a2ccbae9-0140-4aab-bc8d-99de0b706f6e",
   "metadata": {},
   "source": [
    "- alpha=1 일때 대부분 계수가 0이며 0이 아닌 값들도 값이 굉장히 작음 , 0.1일때 대부분 특성이 0이 되는 분포를 얻음\n",
    "- 0.0001이 되면 대부분이 0이 아니고 값도 커져서 거의 규제를 받지않은 모델이 만들어진다. \n",
    "- alpha 값이 0.1일때 리지회귀 모델은 alpha 0.01인 라소모델과 성능은 비슷하지만 리지모델을 사용하게 되면 계수들이 0이  되지 않는다.\n",
    "\n",
    "-------------------------\n",
    "\n",
    "- 실제 사용에서는 보통 리지모델을 사용하지만 특성이 많고 그 중 일부분만 중요하다면 Lasso가 더 좋은 모델일 수 있다. \n",
    "- 분석하기 좋은 모델을 원할때에도 역시 라소가 입력 특성중 일부분만을 사용함으로 쉽게 해석할 수 있는 모델을 만들어 준다. \n",
    "- sklearn에서는 L1, L2 모두를 결합한 ElasticNet을 제공하고 더 좋은 성능을 보이지만 두개의 매개변수를 조정해야한다는 단점이 존재한다. \n"
   ]
  },
  {
   "cell_type": "code",
   "execution_count": null,
   "id": "1739bcc4-52e8-4917-b381-86c8097b4864",
   "metadata": {},
   "outputs": [],
   "source": []
  }
 ],
 "metadata": {
  "kernelspec": {
   "display_name": "Python 3 (ipykernel)",
   "language": "python",
   "name": "python3"
  },
  "language_info": {
   "codemirror_mode": {
    "name": "ipython",
    "version": 3
   },
   "file_extension": ".py",
   "mimetype": "text/x-python",
   "name": "python",
   "nbconvert_exporter": "python",
   "pygments_lexer": "ipython3",
   "version": "3.8.12"
  }
 },
 "nbformat": 4,
 "nbformat_minor": 5
}
